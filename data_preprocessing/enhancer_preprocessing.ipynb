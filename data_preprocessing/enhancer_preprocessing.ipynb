{
 "cells": [
  {
   "cell_type": "code",
   "execution_count": null,
   "id": "72fe5ba4",
   "metadata": {},
   "outputs": [],
   "source": [
    "\n"
   ]
  },
  {
   "cell_type": "code",
   "execution_count": 1,
   "id": "bd52b884",
   "metadata": {},
   "outputs": [
    {
     "name": "stdout",
     "output_type": "stream",
     "text": [
      "Extracted files from /common/zhangz2lab/zhanh/enhancer_data/non_enhancers_train.zip: ['train-non-enhancers.fasta']\n",
      "Processing FASTA file: extracted_files_non_enhancers_train/train-non-enhancers.fasta\n",
      "CSV file created at /common/zhangz2lab/zhanh/enhancer_data/non_enhancers_train.csv\n",
      "Extracted files from /common/zhangz2lab/zhanh/enhancer_data/non_enhancers_test.zip: ['test-non-enhancers.fasta']\n",
      "Processing FASTA file: extracted_files_non_enhancers_test/test-non-enhancers.fasta\n",
      "CSV file created at /common/zhangz2lab/zhanh/enhancer_data/non_enhancers_test.csv\n"
     ]
    }
   ],
   "source": [
    "import zipfile\n",
    "import os\n",
    "import shutil\n",
    "import pandas as pd\n",
    "from Bio import SeqIO\n",
    "\n",
    "def process_fasta_zip(zip_file_path, output_csv_path, extract_dir_base='extracted_files'):\n",
    "    \"\"\"\n",
    "    Extract sequences from a FASTA file in a ZIP archive and save them to a CSV file with their lengths.\n",
    "\n",
    "    Parameters:\n",
    "    zip_file_path (str): Path to the ZIP file containing the FASTA file.\n",
    "    output_csv_path (str): Path to save the output CSV file.\n",
    "    extract_dir_base (str): Base directory to extract files to (default is 'extracted_files').\n",
    "    \"\"\"\n",
    "    # Create a unique extraction directory for this ZIP file\n",
    "    extract_dir = f\"{extract_dir_base}_{os.path.basename(zip_file_path).split('.')[0]}\"\n",
    "    \n",
    "    # Ensure the extraction directory is empty\n",
    "    if os.path.exists(extract_dir):\n",
    "        shutil.rmtree(extract_dir)\n",
    "    os.makedirs(extract_dir)\n",
    "\n",
    "    # Open the zip file\n",
    "    with zipfile.ZipFile(zip_file_path, 'r') as zip_ref:\n",
    "        # Extract all files in the zip archive to the specified directory\n",
    "        zip_ref.extractall(extract_dir)\n",
    "\n",
    "    # List all files in the extracted directory to ensure extraction\n",
    "    extracted_files = os.listdir(extract_dir)\n",
    "    print(f\"Extracted files from {zip_file_path}: {extracted_files}\")\n",
    "\n",
    "    # Find the first FASTA file in the extracted directory\n",
    "    fasta_files = [f for f in extracted_files if f.endswith('.fasta')]\n",
    "    if not fasta_files:\n",
    "        print(f\"Error: No FASTA file found in {zip_file_path}\")\n",
    "        return\n",
    "    \n",
    "    fasta_file_path = os.path.join(extract_dir, fasta_files[0])\n",
    "    print(f\"Processing FASTA file: {fasta_file_path}\")\n",
    "\n",
    "    # Verify if the extracted file exists\n",
    "    if not os.path.exists(fasta_file_path):\n",
    "        print(f\"Error: The file {fasta_file_path} does not exist.\")\n",
    "        return\n",
    "\n",
    "    sequences = []\n",
    "    labels = []\n",
    "\n",
    "    # Parse the FASTA file and collect sequences\n",
    "    with open(fasta_file_path, 'r') as fasta_file:\n",
    "        for record in SeqIO.parse(fasta_file, 'fasta'):\n",
    "            sequence = str(record.seq)\n",
    "            sequences.append(sequence)\n",
    "            labels.append(0)  # Label for non-enhancers is 0\n",
    "\n",
    "    # Create a DataFrame\n",
    "    data = {'sequence': sequences, 'label': labels}\n",
    "    df = pd.DataFrame(data)\n",
    "\n",
    "    # Save to CSV file\n",
    "    df.to_csv(output_csv_path, index=False)\n",
    "    print(f\"CSV file created at {output_csv_path}\")\n",
    "\n",
    "# Process the training and test datasets\n",
    "zip_file_path_train = '/common/zhangz2lab/zhanh/enhancer_data/non_enhancers_train.zip'\n",
    "output_csv_path_train = '/common/zhangz2lab/zhanh/enhancer_data/non_enhancers_train.csv'\n",
    "process_fasta_zip(zip_file_path_train, output_csv_path_train)\n",
    "\n",
    "zip_file_path_test = '/common/zhangz2lab/zhanh/enhancer_data/non_enhancers_test.zip'\n",
    "output_csv_path_test = '/common/zhangz2lab/zhanh/enhancer_data/non_enhancers_test.csv'\n",
    "process_fasta_zip(zip_file_path_test, output_csv_path_test)\n"
   ]
  },
  {
   "cell_type": "code",
   "execution_count": null,
   "id": "a0fa170b",
   "metadata": {},
   "outputs": [],
   "source": []
  },
  {
   "cell_type": "code",
   "execution_count": 2,
   "id": "98c61344",
   "metadata": {},
   "outputs": [
    {
     "name": "stdout",
     "output_type": "stream",
     "text": [
      "Extracted files from /common/zhangz2lab/zhanh/enhancer_data/weak_enhancers_train.zip: ['train-weak enhancers.fasta']\n",
      "Processing FASTA file: extracted_files_weak_enhancers_train/train-weak enhancers.fasta\n",
      "CSV file created at /common/zhangz2lab/zhanh/enhancer_data/weak_enhancers_train.csv\n",
      "Extracted files from /common/zhangz2lab/zhanh/enhancer_data/weak_enhancers_test.zip: ['test-weak enhancers.fasta']\n",
      "Processing FASTA file: extracted_files_weak_enhancers_test/test-weak enhancers.fasta\n",
      "CSV file created at /common/zhangz2lab/zhanh/enhancer_data/weak_enhancers_test.csv\n",
      "Extracted files from /common/zhangz2lab/zhanh/enhancer_data/strong_enhancers_train.zip: ['train-strong enhancers.fasta']\n",
      "Processing FASTA file: extracted_files_strong_enhancers_train/train-strong enhancers.fasta\n",
      "CSV file created at /common/zhangz2lab/zhanh/enhancer_data/strong_enhancers_train.csv\n",
      "Extracted files from /common/zhangz2lab/zhanh/enhancer_data/strong_enhancers_test.zip: ['test-strong enhancers.fasta']\n",
      "Processing FASTA file: extracted_files_strong_enhancers_test/test-strong enhancers.fasta\n",
      "CSV file created at /common/zhangz2lab/zhanh/enhancer_data/strong_enhancers_test.csv\n"
     ]
    }
   ],
   "source": [
    "def process_fasta_zip(zip_file_path, output_csv_path, extract_dir_base='extracted_files'):\n",
    "    \"\"\"\n",
    "    Extract sequences from a FASTA file in a ZIP archive and save them to a CSV file with their lengths.\n",
    "\n",
    "    Parameters:\n",
    "    zip_file_path (str): Path to the ZIP file containing the FASTA file.\n",
    "    output_csv_path (str): Path to save the output CSV file.\n",
    "    extract_dir_base (str): Base directory to extract files to (default is 'extracted_files').\n",
    "    \"\"\"\n",
    "    # Create a unique extraction directory for this ZIP file\n",
    "    extract_dir = f\"{extract_dir_base}_{os.path.basename(zip_file_path).split('.')[0]}\"\n",
    "    \n",
    "    # Ensure the extraction directory is empty\n",
    "    if os.path.exists(extract_dir):\n",
    "        shutil.rmtree(extract_dir)\n",
    "    os.makedirs(extract_dir)\n",
    "\n",
    "    # Open the zip file\n",
    "    with zipfile.ZipFile(zip_file_path, 'r') as zip_ref:\n",
    "        # Extract all files in the zip archive to the specified directory\n",
    "        zip_ref.extractall(extract_dir)\n",
    "\n",
    "    # List all files in the extracted directory to ensure extraction\n",
    "    extracted_files = os.listdir(extract_dir)\n",
    "    print(f\"Extracted files from {zip_file_path}: {extracted_files}\")\n",
    "\n",
    "    # Find the first FASTA file in the extracted directory\n",
    "    fasta_files = [f for f in extracted_files if f.endswith('.fasta')]\n",
    "    if not fasta_files:\n",
    "        print(f\"Error: No FASTA file found in {zip_file_path}\")\n",
    "        return\n",
    "    \n",
    "    fasta_file_path = os.path.join(extract_dir, fasta_files[0])\n",
    "    print(f\"Processing FASTA file: {fasta_file_path}\")\n",
    "\n",
    "    # Verify if the extracted file exists\n",
    "    if not os.path.exists(fasta_file_path):\n",
    "        print(f\"Error: The file {fasta_file_path} does not exist.\")\n",
    "        return\n",
    "\n",
    "    sequences = []\n",
    "    labels = []\n",
    "\n",
    "    # Parse the FASTA file and collect sequences\n",
    "    with open(fasta_file_path, 'r') as fasta_file:\n",
    "        for record in SeqIO.parse(fasta_file, 'fasta'):\n",
    "            sequence = str(record.seq)\n",
    "            sequences.append(sequence)\n",
    "            labels.append(1)  # Label for non-enhancers is 0\n",
    "\n",
    "    # Create a DataFrame\n",
    "    data = {'sequence': sequences, 'label': labels}\n",
    "    df = pd.DataFrame(data)\n",
    "\n",
    "    # Save to CSV file\n",
    "    df.to_csv(output_csv_path, index=False)\n",
    "    print(f\"CSV file created at {output_csv_path}\")\n",
    "\n",
    "zip_file_path = '/common/zhangz2lab/zhanh/enhancer_data/weak_enhancers_train.zip'\n",
    "output_csv_path = '/common/zhangz2lab/zhanh/enhancer_data/weak_enhancers_train.csv'\n",
    "process_fasta_zip(zip_file_path, output_csv_path)\n",
    "zip_file_path = '/common/zhangz2lab/zhanh/enhancer_data/weak_enhancers_test.zip'\n",
    "output_csv_path = '/common/zhangz2lab/zhanh/enhancer_data/weak_enhancers_test.csv'\n",
    "process_fasta_zip(zip_file_path, output_csv_path)\n",
    "zip_file_path = '/common/zhangz2lab/zhanh/enhancer_data/strong_enhancers_train.zip'\n",
    "output_csv_path = '/common/zhangz2lab/zhanh/enhancer_data/strong_enhancers_train.csv'\n",
    "process_fasta_zip(zip_file_path, output_csv_path)\n",
    "zip_file_path = '/common/zhangz2lab/zhanh/enhancer_data/strong_enhancers_test.zip'\n",
    "output_csv_path = '/common/zhangz2lab/zhanh/enhancer_data/strong_enhancers_test.csv'\n",
    "process_fasta_zip(zip_file_path, output_csv_path)\n"
   ]
  },
  {
   "cell_type": "code",
   "execution_count": 3,
   "id": "f773c91a",
   "metadata": {},
   "outputs": [
    {
     "name": "stdout",
     "output_type": "stream",
     "text": [
      "Shuffled CSV file created at /common/zhangz2lab/zhanh/enhancer_data/enhancer_train_data.csv\n"
     ]
    }
   ],
   "source": [
    "import pandas as pd\n",
    "\n",
    "def concatenate_and_shuffle(csv_files, output_csv_path):\n",
    "    \"\"\"\n",
    "    Concatenate multiple CSV files and shuffle the resulting DataFrame.\n",
    "\n",
    "    Parameters:\n",
    "    csv_files (list): List of paths to the CSV files to concatenate.\n",
    "    output_csv_path (str): Path to save the concatenated and shuffled CSV file.\n",
    "    \"\"\"\n",
    "    # Read and concatenate all CSV files\n",
    "    dataframes = [pd.read_csv(file) for file in csv_files]\n",
    "    combined_df = pd.concat(dataframes, ignore_index=True)\n",
    "\n",
    "    # Shuffle the combined DataFrame\n",
    "    shuffled_df = combined_df.sample(frac=1).reset_index(drop=True)\n",
    "\n",
    "    # Save the shuffled DataFrame to a new CSV file\n",
    "    shuffled_df.to_csv(output_csv_path, index=False)\n",
    "    print(f\"Shuffled CSV file created at {output_csv_path}\")\n",
    "\n",
    "# Example usage:\n",
    "csv_files = [\n",
    "    '/common/zhangz2lab/zhanh/enhancer_data/non_enhancers_train.csv',\n",
    "    '/common/zhangz2lab/zhanh/enhancer_data/weak_enhancers_train.csv',\n",
    "    '/common/zhangz2lab/zhanh/enhancer_data/strong_enhancers_train.csv'\n",
    "]\n",
    "output_csv_path = '/common/zhangz2lab/zhanh/enhancer_data/enhancer_train_data.csv'\n",
    "concatenate_and_shuffle(csv_files, output_csv_path)\n"
   ]
  },
  {
   "cell_type": "code",
   "execution_count": 4,
   "id": "62ea3a54",
   "metadata": {},
   "outputs": [
    {
     "name": "stdout",
     "output_type": "stream",
     "text": [
      "1    7487\n",
      "0    7484\n",
      "Name: label, dtype: int64\n"
     ]
    }
   ],
   "source": [
    "csv_file_path = '/common/zhangz2lab/zhanh/enhancer_data/enhancer_train_data.csv'\n",
    "\n",
    "# Read the CSV file into a DataFrame\n",
    "df = pd.read_csv(csv_file_path)\n",
    "\n",
    "# Check the counts of each label\n",
    "label_counts = df['label'].value_counts()\n",
    "print(label_counts)"
   ]
  },
  {
   "cell_type": "code",
   "execution_count": 5,
   "id": "9ac9824a",
   "metadata": {},
   "outputs": [
    {
     "name": "stdout",
     "output_type": "stream",
     "text": [
      "Shuffled CSV file created at /common/zhangz2lab/zhanh/enhancer_data/enhancer_test_data.csv\n"
     ]
    }
   ],
   "source": [
    "csv_files = [\n",
    "    '/common/zhangz2lab/zhanh/enhancer_data/non_enhancers_test.csv',\n",
    "    '/common/zhangz2lab/zhanh/enhancer_data/weak_enhancers_test.csv',\n",
    "    '/common/zhangz2lab/zhanh/enhancer_data/strong_enhancers_test.csv'\n",
    "]\n",
    "output_csv_path = '/common/zhangz2lab/zhanh/enhancer_data/enhancer_test_data.csv'\n",
    "concatenate_and_shuffle(csv_files, output_csv_path)"
   ]
  },
  {
   "cell_type": "code",
   "execution_count": 6,
   "id": "75af095a",
   "metadata": {},
   "outputs": [
    {
     "name": "stdout",
     "output_type": "stream",
     "text": [
      "0    200\n",
      "1    200\n",
      "Name: label, dtype: int64\n"
     ]
    }
   ],
   "source": [
    "csv_file_path = '/common/zhangz2lab/zhanh/enhancer_data/enhancer_test_data.csv'\n",
    "\n",
    "# Read the CSV file into a DataFrame\n",
    "df = pd.read_csv(csv_file_path)\n",
    "\n",
    "# Check the counts of each label\n",
    "label_counts = df['label'].value_counts()\n",
    "print(label_counts)"
   ]
  },
  {
   "cell_type": "code",
   "execution_count": 7,
   "id": "c6d3b3fb",
   "metadata": {},
   "outputs": [
    {
     "name": "stdout",
     "output_type": "stream",
     "text": [
      "Extracted files from /common/zhangz2lab/zhanh/enhancer_data/strong_enhancers_train.zip: ['train-strong enhancers.fasta']\n",
      "Processing FASTA file: extracted_files_strong_enhancers_train/train-strong enhancers.fasta\n",
      "CSV file created at /common/zhangz2lab/zhanh/enhancer_data/strong_enhancers_train_level.csv\n",
      "Extracted files from /common/zhangz2lab/zhanh/enhancer_data/strong_enhancers_test.zip: ['test-strong enhancers.fasta']\n",
      "Processing FASTA file: extracted_files_strong_enhancers_test/test-strong enhancers.fasta\n",
      "CSV file created at /common/zhangz2lab/zhanh/enhancer_data/strong_enhancers_test_level.csv\n"
     ]
    }
   ],
   "source": [
    "def process_fasta_zip(zip_file_path, output_csv_path, extract_dir_base='extracted_files'):\n",
    "    \"\"\"\n",
    "    Extract sequences from a FASTA file in a ZIP archive and save them to a CSV file with their lengths.\n",
    "\n",
    "    Parameters:\n",
    "    zip_file_path (str): Path to the ZIP file containing the FASTA file.\n",
    "    output_csv_path (str): Path to save the output CSV file.\n",
    "    extract_dir_base (str): Base directory to extract files to (default is 'extracted_files').\n",
    "    \"\"\"\n",
    "    # Create a unique extraction directory for this ZIP file\n",
    "    extract_dir = f\"{extract_dir_base}_{os.path.basename(zip_file_path).split('.')[0]}\"\n",
    "    \n",
    "    # Ensure the extraction directory is empty\n",
    "    if os.path.exists(extract_dir):\n",
    "        shutil.rmtree(extract_dir)\n",
    "    os.makedirs(extract_dir)\n",
    "\n",
    "    # Open the zip file\n",
    "    with zipfile.ZipFile(zip_file_path, 'r') as zip_ref:\n",
    "        # Extract all files in the zip archive to the specified directory\n",
    "        zip_ref.extractall(extract_dir)\n",
    "\n",
    "    # List all files in the extracted directory to ensure extraction\n",
    "    extracted_files = os.listdir(extract_dir)\n",
    "    print(f\"Extracted files from {zip_file_path}: {extracted_files}\")\n",
    "\n",
    "    # Find the first FASTA file in the extracted directory\n",
    "    fasta_files = [f for f in extracted_files if f.endswith('.fasta')]\n",
    "    if not fasta_files:\n",
    "        print(f\"Error: No FASTA file found in {zip_file_path}\")\n",
    "        return\n",
    "    \n",
    "    fasta_file_path = os.path.join(extract_dir, fasta_files[0])\n",
    "    print(f\"Processing FASTA file: {fasta_file_path}\")\n",
    "\n",
    "    # Verify if the extracted file exists\n",
    "    if not os.path.exists(fasta_file_path):\n",
    "        print(f\"Error: The file {fasta_file_path} does not exist.\")\n",
    "        return\n",
    "\n",
    "    sequences = []\n",
    "    labels = []\n",
    "\n",
    "    # Parse the FASTA file and collect sequences\n",
    "    with open(fasta_file_path, 'r') as fasta_file:\n",
    "        for record in SeqIO.parse(fasta_file, 'fasta'):\n",
    "            sequence = str(record.seq)\n",
    "            sequences.append(sequence)\n",
    "            labels.append(2)  # Label for non-enhancers is 0\n",
    "\n",
    "    # Create a DataFrame\n",
    "    data = {'sequence': sequences, 'label': labels}\n",
    "    df = pd.DataFrame(data)\n",
    "\n",
    "    # Save to CSV file\n",
    "    df.to_csv(output_csv_path, index=False)\n",
    "    print(f\"CSV file created at {output_csv_path}\")\n",
    "\n",
    "zip_file_path = '/common/zhangz2lab/zhanh/enhancer_data/strong_enhancers_train.zip'\n",
    "output_csv_path = '/common/zhangz2lab/zhanh/enhancer_data/strong_enhancers_train_level.csv'\n",
    "process_fasta_zip(zip_file_path, output_csv_path)\n",
    "zip_file_path = '/common/zhangz2lab/zhanh/enhancer_data/strong_enhancers_test.zip'\n",
    "output_csv_path = '/common/zhangz2lab/zhanh/enhancer_data/strong_enhancers_test_level.csv'\n",
    "process_fasta_zip(zip_file_path, output_csv_path)\n"
   ]
  },
  {
   "cell_type": "code",
   "execution_count": 8,
   "id": "6ce07d2e",
   "metadata": {},
   "outputs": [
    {
     "name": "stdout",
     "output_type": "stream",
     "text": [
      "Shuffled CSV file created at /common/zhangz2lab/zhanh/enhancer_data/enhancer_level_train_data.csv\n"
     ]
    }
   ],
   "source": [
    "csv_files = [\n",
    "    '/common/zhangz2lab/zhanh/enhancer_data/non_enhancers_train.csv',\n",
    "    '/common/zhangz2lab/zhanh/enhancer_data/weak_enhancers_train.csv',\n",
    "    '/common/zhangz2lab/zhanh/enhancer_data/strong_enhancers_train_level.csv'\n",
    "]\n",
    "output_csv_path = '/common/zhangz2lab/zhanh/enhancer_data/enhancer_level_train_data.csv'\n",
    "concatenate_and_shuffle(csv_files, output_csv_path)"
   ]
  },
  {
   "cell_type": "code",
   "execution_count": 9,
   "id": "1ebe8ff0",
   "metadata": {},
   "outputs": [
    {
     "name": "stdout",
     "output_type": "stream",
     "text": [
      "0    7484\n",
      "2    3744\n",
      "1    3743\n",
      "Name: label, dtype: int64\n"
     ]
    }
   ],
   "source": [
    "csv_file_path = '/common/zhangz2lab/zhanh/enhancer_data/enhancer_level_train_data.csv'\n",
    "\n",
    "# Read the CSV file into a DataFrame\n",
    "df = pd.read_csv(csv_file_path)\n",
    "\n",
    "# Check the counts of each label\n",
    "label_counts = df['label'].value_counts()\n",
    "print(label_counts)"
   ]
  },
  {
   "cell_type": "code",
   "execution_count": 10,
   "id": "e6780143",
   "metadata": {},
   "outputs": [
    {
     "name": "stdout",
     "output_type": "stream",
     "text": [
      "Shuffled CSV file created at /common/zhangz2lab/zhanh/enhancer_data/enhancer_level_test_data.csv\n"
     ]
    }
   ],
   "source": [
    "csv_files = [\n",
    "    '/common/zhangz2lab/zhanh/enhancer_data/non_enhancers_test.csv',\n",
    "    '/common/zhangz2lab/zhanh/enhancer_data/weak_enhancers_test.csv',\n",
    "    '/common/zhangz2lab/zhanh/enhancer_data/strong_enhancers_test_level.csv'\n",
    "]\n",
    "output_csv_path = '/common/zhangz2lab/zhanh/enhancer_data/enhancer_level_test_data.csv'\n",
    "concatenate_and_shuffle(csv_files, output_csv_path)"
   ]
  },
  {
   "cell_type": "code",
   "execution_count": 11,
   "id": "f996f02e",
   "metadata": {},
   "outputs": [
    {
     "name": "stdout",
     "output_type": "stream",
     "text": [
      "0    200\n",
      "1    100\n",
      "2    100\n",
      "Name: label, dtype: int64\n"
     ]
    }
   ],
   "source": [
    "csv_file_path = '/common/zhangz2lab/zhanh/enhancer_data/enhancer_level_test_data.csv'\n",
    "\n",
    "# Read the CSV file into a DataFrame\n",
    "df = pd.read_csv(csv_file_path)\n",
    "\n",
    "# Check the counts of each label\n",
    "label_counts = df['label'].value_counts()\n",
    "print(label_counts)"
   ]
  },
  {
   "cell_type": "code",
   "execution_count": null,
   "id": "aa66f7d8",
   "metadata": {},
   "outputs": [],
   "source": []
  }
 ],
 "metadata": {
  "kernelspec": {
   "display_name": "Python 3 (ipykernel)",
   "language": "python",
   "name": "python3"
  },
  "language_info": {
   "codemirror_mode": {
    "name": "ipython",
    "version": 3
   },
   "file_extension": ".py",
   "mimetype": "text/x-python",
   "name": "python",
   "nbconvert_exporter": "python",
   "pygments_lexer": "ipython3",
   "version": "3.9.13"
  }
 },
 "nbformat": 4,
 "nbformat_minor": 5
}
